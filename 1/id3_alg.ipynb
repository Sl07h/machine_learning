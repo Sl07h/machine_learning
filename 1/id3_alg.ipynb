{
 "cells": [
  {
   "cell_type": "markdown",
   "metadata": {},
   "source": [
    "# Пример взят [отсюда](https://www.cise.ufl.edu/~ddd/cap6635/Fall-97/Short-papers/2.htm)\n",
    "\n",
    "Здесь формируется дерево решений для таблицы, приведенной там. Результат совпадает с деревом, которое должно получиться.\n",
    "\n",
    "Их результат:\n",
    "![](https://www.cise.ufl.edu/~ddd/cap6635/Fall-97/Short-papers/Image3.gif)"
   ]
  },
  {
   "cell_type": "code",
   "execution_count": 3,
   "metadata": {},
   "outputs": [
    {
     "name": "stderr",
     "output_type": "stream",
     "text": [
      "/usr/local/lib/python3.6/dist-packages/sklearn/utils/validation.py:558: FutureWarning: Beginning in version 0.22, arrays of bytes/strings will be converted to decimal numbers if dtype='numeric'. It is recommended that you convert the array to a float dtype before using it in scikit-learn, for example by using your_array = your_array.astype(np.float64).\n",
      "  FutureWarning)\n"
     ]
    },
    {
     "data": {
      "text/plain": [
       "<_io.TextIOWrapper name='first.dot' mode='w' encoding='utf8'>"
      ]
     },
     "execution_count": 3,
     "metadata": {},
     "output_type": "execute_result"
    }
   ],
   "source": [
    "from id3 import Id3Estimator, export_graphviz\n",
    "import numpy as np\n",
    "\n",
    "feature_names = [\"outlook\",\n",
    "                 \"temperature\",\n",
    "                 \"humidity\",\n",
    "                 \"wind\"]\n",
    "\n",
    "X = np.array([\n",
    "    [\"Sunny\", \"Hot\", \"High\", \"Weak\"],\n",
    "    [\"Sunny\", \"Hot\", \"High\", \"Strong\"],\n",
    "    [\"Overcast\", \"Hot\", \"High\", \"Weak\"],\n",
    "    [\"Rain\", \"Mild\", \"High\", \"Weak\"],\n",
    "    [\"Rain\", \"Cool\", \"Normal\", \"Weak\"],\n",
    "    [\"Rain\", \"Cool\", \"Normal\", \"Strong\"],\n",
    "    [\"Overcast\", \"Cool\", \"Normal\", \"Strong\"],\n",
    "    [\"Sunny\", \"Mild\", \"High\", \"Weak\"],\n",
    "    [\"Sunny\", \"Cool\", \"Normal\", \"Weak\"],\n",
    "    [\"Rain\", \"Mild\", \"Normal\", \"Weak\"],\n",
    "    [\"Sunny\", \"Mild\", \"Normal\", \"Strong\"],\n",
    "    [\"Overcast\", \"Mild\", \"High\", \"Strong\"],\n",
    "    [\"Overcast\", \"Hot\", \"Normal\", \"Weak\"],\n",
    "    [\"Rain\", \"Mild\", \"High\", \"Strong\"]])\n",
    "\n",
    "y = np.array([\"no\",\n",
    "              \"no\",\n",
    "              \"yes\",\n",
    "              \"yes\",\n",
    "              \"yes\",\n",
    "              \"no\",\n",
    "              \"yes\",\n",
    "              \"no\",\n",
    "              \"yes\",\n",
    "              \"yes\",\n",
    "              \"yes\",\n",
    "              \"yes\",\n",
    "              \"yes\",\n",
    "              \"no\"])\n",
    "\n",
    "clf = Id3Estimator()\n",
    "clf.fit(X, y, check_input=True)\n",
    "\n",
    "export_graphviz(clf.tree_, \"first.dot\", feature_names)"
   ]
  },
  {
   "cell_type": "code",
   "execution_count": 4,
   "metadata": {},
   "outputs": [],
   "source": [
    "! dot -T png first.dot -o first.png"
   ]
  },
  {
   "cell_type": "markdown",
   "metadata": {},
   "source": [
    "Результат работы программы:\n",
    "\n",
    "![](first.png)"
   ]
  },
  {
   "cell_type": "markdown",
   "metadata": {},
   "source": [
    "# Создание дерева решений на базе из архива\n",
    "Данные взяты [отсюда](http://archive.ics.uci.edu/ml/datasets/Tic-Tac-Toe+Endgame). Данные связаны с игрой крестики-нолики."
   ]
  },
  {
   "cell_type": "code",
   "execution_count": 5,
   "metadata": {},
   "outputs": [
    {
     "name": "stderr",
     "output_type": "stream",
     "text": [
      "/usr/local/lib/python3.6/dist-packages/sklearn/utils/validation.py:558: FutureWarning: Beginning in version 0.22, arrays of bytes/strings will be converted to decimal numbers if dtype='numeric'. It is recommended that you convert the array to a float dtype before using it in scikit-learn, for example by using your_array = your_array.astype(np.float64).\n",
      "  FutureWarning)\n"
     ]
    },
    {
     "data": {
      "text/plain": [
       "<_io.TextIOWrapper name='second.dot' mode='w' encoding='utf8'>"
      ]
     },
     "execution_count": 5,
     "metadata": {},
     "output_type": "execute_result"
    }
   ],
   "source": [
    "from id3 import Id3Estimator, export_graphviz\n",
    "import numpy as np\n",
    "\n",
    "feature_names = [\"1\",\"2\",\"3\",\"4\",\"5\",\"6\",\"7\",\"8\",\"9\"]\n",
    "\n",
    "X = np.loadtxt(\"tic-tac-toe.data\", delimiter=\",\", dtype=str, usecols=(0,1,2,3,4,5,6,7,8))\n",
    "y = np.loadtxt(\"tic-tac-toe.data\", delimiter=\",\", dtype=str, usecols=(9))\n",
    "\n",
    "clf = Id3Estimator()\n",
    "clf.fit(X, y, check_input=True)\n",
    "\n",
    "export_graphviz(clf.tree_, \"second.dot\", feature_names)"
   ]
  },
  {
   "cell_type": "code",
   "execution_count": 7,
   "metadata": {},
   "outputs": [],
   "source": [
    "! dot -T png second.dot -o second.png"
   ]
  },
  {
   "cell_type": "markdown",
   "metadata": {},
   "source": [
    "Результат работы программы:\n",
    "![](second.png)"
   ]
  }
 ],
 "metadata": {
  "kernelspec": {
   "display_name": "Python 3",
   "language": "python",
   "name": "python3"
  },
  "language_info": {
   "codemirror_mode": {
    "name": "ipython",
    "version": 3
   },
   "file_extension": ".py",
   "mimetype": "text/x-python",
   "name": "python",
   "nbconvert_exporter": "python",
   "pygments_lexer": "ipython3",
   "version": "3.6.6"
  }
 },
 "nbformat": 4,
 "nbformat_minor": 2
}
